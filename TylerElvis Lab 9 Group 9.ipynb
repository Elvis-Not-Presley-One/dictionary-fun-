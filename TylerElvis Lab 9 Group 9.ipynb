{
 "cells": [
  {
   "cell_type": "markdown",
   "id": "24fcea73-ec57-4167-9d7c-1d2b499f233c",
   "metadata": {},
   "source": [
    "# Lab 9 Problem 1"
   ]
  },
  {
   "cell_type": "code",
   "execution_count": 28,
   "id": "acf114b5-7871-4400-8719-4e1a4bc80065",
   "metadata": {},
   "outputs": [
    {
     "name": "stdin",
     "output_type": "stream",
     "text": [
      "Enter full name:  a\n"
     ]
    },
    {
     "name": "stdout",
     "output_type": "stream",
     "text": [
      "You must enter your full name.\n"
     ]
    },
    {
     "name": "stdin",
     "output_type": "stream",
     "text": [
      "Enter full name:  afafdhfdhfd fdfd\n"
     ]
    },
    {
     "name": "stdout",
     "output_type": "stream",
     "text": [
      "\n"
     ]
    },
    {
     "name": "stdin",
     "output_type": "stream",
     "text": [
      "Enter password:   adasdsadDDD67676\n"
     ]
    },
    {
     "name": "stdout",
     "output_type": "stream",
     "text": [
      "\n"
     ]
    },
    {
     "name": "stdin",
     "output_type": "stream",
     "text": [
      "Enter email address:  fhdjfdh@gmail.com\n"
     ]
    },
    {
     "name": "stdout",
     "output_type": "stream",
     "text": [
      "7\n"
     ]
    },
    {
     "name": "stdin",
     "output_type": "stream",
     "text": [
      "Enter a phone number:  9085555555\n"
     ]
    },
    {
     "name": "stdout",
     "output_type": "stream",
     "text": [
      "9085555555\n",
      "Hi afafdhfdhfd, thanks for creating an account.\n",
      "We'll text your confirmation code to this number: 908.555.5555\n"
     ]
    }
   ],
   "source": [
    "# Create Account Program\n",
    "#Tyler, Fatima - Group 9\n",
    "\n",
    "def get_full_name():\n",
    "    \"\"\"\n",
    "    The get full name function gets the name of the person\n",
    "    \"\"\"\n",
    "    bad_name = True\n",
    "    while bad_name:\n",
    "        name = input(\"Enter full name: \").strip()\n",
    "        if \" \" in name:\n",
    "            bad_name = False\n",
    "            return name\n",
    "        else:\n",
    "            print(\"You must enter your full name.\")\n",
    "            \n",
    "def get_email():\n",
    "    \"\"\"\n",
    "    The get email function gets the email of the person\n",
    "    \"\"\"\n",
    "    bad_email = True \n",
    "    while bad_email:\n",
    "        email = input('Enter email address: ')\n",
    "        at_index = email.find(\"@\")\n",
    "        print(at_index)\n",
    "        dot_index = email.find(\".\", at_index)\n",
    "\n",
    "        if at_index == -1 or dot_index == -1:\n",
    "            print(\"Invalid email address: \", email)\n",
    "        else: \n",
    "            bad_email = False\n",
    "    \n",
    "def get_phone():\n",
    "    \"\"\"\n",
    "    The get phone function gets the phone number of the person \n",
    "    \"\"\"\n",
    "    # (908) 555-5555\n",
    "    bad_number = True\n",
    "    while bad_number:\n",
    "        pn = input('Enter a phone number: ')\n",
    "        pn = pn.replace('-', '')\n",
    "        pn = pn.replace('(', '')\n",
    "        pn = pn.replace(')', '')\n",
    "        pn = pn.replace(' ', '')\n",
    "        pn = pn.strip()\n",
    "        print(pn)\n",
    "\n",
    "        pn_length = len(pn)\n",
    "        pn_dig = pn.isdigit()\n",
    "\n",
    "        if pn_length == 10 and pn_dig == True:\n",
    "            bad_number = False\n",
    "            pn = pn[:3] + \".\" + pn[3:] \n",
    "            pn = pn[:7] + \".\" + pn[7:] \n",
    "            return pn\n",
    "\n",
    "        else: \n",
    "            print('Please enter a 10-digit phone number.')\n",
    "\n",
    "def get_password():\n",
    "    \"\"\"\n",
    "    The get password function gets the password of the person \n",
    "    \"\"\"\n",
    "    bad_pwd = True\n",
    "    while bad_pwd:\n",
    "        password = input(\"Enter password:  \").strip()\n",
    "        digit = False\n",
    "        cap_letter = False\n",
    "        for char in password:\n",
    "            if char.isdigit():\n",
    "                digit = True\n",
    "            elif char.isupper():\n",
    "                cap_letter = True\n",
    "        if digit == False or cap_letter == False or len(password) < 8:\n",
    "            print(\"Password must be 8 characters or more \\n\" +\n",
    "                  \"with at least one digit and one uppercase letter.\")\n",
    "        else:\n",
    "            bad_pwd = False\n",
    "            return password\n",
    "        \n",
    "def get_first_name(full_name):\n",
    "    \"\"\"\n",
    "    The get first name function gets the first name of the person from the full name \n",
    "    \"\"\"\n",
    "    index1 = full_name.find(\" \")\n",
    "    first_name = full_name[:index1]\n",
    "    return first_name\n",
    "\n",
    "def main():\n",
    "    \"\"\"\n",
    "    This is the main\n",
    "    \"\"\"\n",
    "    full_name = get_full_name()\n",
    "    print()\n",
    "    \n",
    "    password = get_password()\n",
    "    print()\n",
    "    get_email()\n",
    "    phone = get_phone()\n",
    "    first_name = get_first_name(full_name)\n",
    "    print(\"Hi \" + first_name + \", thanks for creating an account.\")\n",
    "    print(\"We'll text your confirmation code to this number: \" + phone)\n",
    "    \n",
    "if __name__ == \"__main__\":\n",
    "    main()"
   ]
  },
  {
   "cell_type": "markdown",
   "id": "c314334c-a67c-4b05-b447-d68c0f25d7c2",
   "metadata": {},
   "source": [
    "# Lab 9 Problem 2\n",
    "Impacts\r\n",
    "1) main(): The movie_list in the main was modified into a dictionary.\r\n",
    "2) list(): The loop was modified to display the movie name and year using the key and value.\r\n",
    "3) add(): The code that stored the data for the movie was modified to use a dictionary\r\n",
    "4) delete(): The code was modified so that it would work with the dictionary.\r\n",
    "\r\n"
   ]
  },
  {
   "cell_type": "code",
   "execution_count": 36,
   "id": "b480fea9-e5ce-4d49-86ea-2f397edf41c0",
   "metadata": {},
   "outputs": [
    {
     "name": "stdout",
     "output_type": "stream",
     "text": [
      "COMMAND MENU\n",
      "list - List all movies\n",
      "add - Add a movie\n",
      "del - Delete a movie\n",
      "exit - exit program\n"
     ]
    },
    {
     "name": "stdin",
     "output_type": "stream",
     "text": [
      "Enter Command:  list\n"
     ]
    },
    {
     "name": "stdout",
     "output_type": "stream",
     "text": [
      "Name: A Star is Born Year: 2018\n",
      "\n",
      "Name: An Old Man and a Gun Year: 2018\n",
      "\n",
      "Name: The Spy Who Dumped Me Year: 2017\n",
      "\n",
      "COMMAND MENU\n",
      "list - List all movies\n",
      "add - Add a movie\n",
      "del - Delete a movie\n",
      "exit - exit program\n"
     ]
    },
    {
     "name": "stdin",
     "output_type": "stream",
     "text": [
      "Enter Command:  exit\n"
     ]
    },
    {
     "name": "stdout",
     "output_type": "stream",
     "text": [
      "You'll be back!\n"
     ]
    }
   ],
   "source": [
    "# Authors: Fatima, Tyler - Group 9\n",
    "# Movie - Phase 2 - Movie Name and Movie Year\n",
    "\n",
    "def display_menu():\n",
    "    \"\"\"\n",
    "    the display function displays the menu\n",
    "    \"\"\"\n",
    "    print(\"COMMAND MENU\")\n",
    "    print(\"list - List all movies\")\n",
    "    print(\"add - Add a movie\")\n",
    "    print(\"del - Delete a movie\")\n",
    "    print(\"exit - exit program\")\n",
    "\n",
    "def list(movie_list):\n",
    "    \"\"\"\n",
    "    the list function shows the list\n",
    "    \"\"\"\n",
    "    if not movie_list:\n",
    "        print(\"There are no movies in the list.\\n\")\n",
    "    else:\n",
    "        for movie in movie_list:\n",
    "            print(\"Name:\", movie['name'],\n",
    "            \"Year:\" , movie['year'])\n",
    "            print()\n",
    "\n",
    "def add(movie_list):\n",
    "    \"\"\"\n",
    "    the add function adds a movie to the list\n",
    "    \"\"\"\n",
    "    name = input(\"Movie Name: \")\n",
    "    year = input(\"Movie Year: \")\n",
    "    movie = {\"name\": name, \"year\": int(year)}\n",
    "    movie_list.append(movie)\n",
    "    print(movie[\"name\"] + \" was added.\\n\")\n",
    "\n",
    "def delete(movie_list):\n",
    "    \"\"\"\n",
    "    The function deletes the move from the lsit\n",
    "    \"\"\"\n",
    "    number = int(input(\"Movie number: \"))\n",
    "    if number < 1 or number > len(movie_list):\n",
    "        print(\"Invalid movie number.\\n\")\n",
    "    else:\n",
    "        movie = movie_list.pop(number-1)\n",
    "        print(movie[\"name\"] + \" was deleted.\\n\")\n",
    "\n",
    "def main():\n",
    "    \"\"\"\n",
    "    This is the Main \n",
    "    \"\"\"\n",
    "    movie_list = [{\"name\" : \"A Star is Born\", \"year\" : 2018},\n",
    "    {\"name\" : \"An Old Man and a Gun\", \"year\" : 2018},\n",
    "    {\"name\" : \"The Spy Who Dumped Me\", \"year\" : 2017}]\n",
    "\n",
    "    display_menu()\n",
    "    command = input(\"Enter Command: \")\n",
    "\n",
    "    while (command.lower() != \"exit\"):\n",
    "\n",
    "        if command.lower() == \"list\":\n",
    "            list(movie_list)\n",
    "            display_menu()\n",
    "        elif command.lower() == \"add\":\n",
    "            add(movie_list)\n",
    "            display_menu()\n",
    "        elif command.lower() == \"del\":\n",
    "            delete(movie_list)\n",
    "            display_menu()\n",
    "        else:\n",
    "            print(\"Not a valid command. Please try again.\\n\")\n",
    "\n",
    "        command = input(\"Enter Command: \")\n",
    "\n",
    "        print(\"You'll be back!\")\n",
    "\n",
    "if __name__ == \"__main__\":\n",
    "    main()\n",
    "          "
   ]
  },
  {
   "cell_type": "code",
   "execution_count": null,
   "id": "389b66a3-e1d8-4b8c-9090-01e012944b76",
   "metadata": {},
   "outputs": [],
   "source": []
  }
 ],
 "metadata": {
  "kernelspec": {
   "display_name": "Python 3 (ipykernel)",
   "language": "python",
   "name": "python3"
  },
  "language_info": {
   "codemirror_mode": {
    "name": "ipython",
    "version": 3
   },
   "file_extension": ".py",
   "mimetype": "text/x-python",
   "name": "python",
   "nbconvert_exporter": "python",
   "pygments_lexer": "ipython3",
   "version": "3.12.4"
  }
 },
 "nbformat": 4,
 "nbformat_minor": 5
}
